{
 "cells": [
  {
   "cell_type": "code",
   "execution_count": 1,
   "metadata": {
    "_cell_guid": "b1076dfc-b9ad-4769-8c92-a6c4dae69d19",
    "_uuid": "8f2839f25d086af736a60e9eeb907d3b93b6e0e5",
    "execution": {
     "iopub.execute_input": "2020-10-21T18:24:16.475161Z",
     "iopub.status.busy": "2020-10-21T18:24:16.474452Z",
     "iopub.status.idle": "2020-10-21T18:24:16.643669Z",
     "shell.execute_reply": "2020-10-21T18:24:16.647399Z"
    },
    "papermill": {
     "duration": 0.192173,
     "end_time": "2020-10-21T18:24:16.647649",
     "exception": false,
     "start_time": "2020-10-21T18:24:16.455476",
     "status": "completed"
    },
    "tags": []
   },
   "outputs": [],
   "source": [
    "# This Python 3 environment comes with many helpful analytics libraries installed\n",
    "# It is defined by the kaggle/python Docker image: https://github.com/kaggle/docker-python\n",
    "# For example, here's several helpful packages to load\n",
    "\n",
    "import numpy as np # linear algebra\n",
    "import pandas as pd # data processing, CSV file I/O (e.g. pd.read_csv)\n",
    "\n",
    "# Input data files are available in the read-only \"../input/\" directory\n",
    "# For example, running this (by clicking run or pressing Shift+Enter) will list all files under the input directory\n",
    "\n",
    "import os\n",
    "# for dirname, _, filenames in os.walk('/kaggle/input'):\n",
    "#     for filename in filenames:\n",
    "#         print(os.path.join(dirname, filename))\n",
    "\n",
    "# You can write up to 5GB to the current directory (/kaggle/working/) that gets preserved as output when you create a version using \"Save & Run All\" \n",
    "# You can also write temporary files to /kaggle/temp/, but they won't be saved outside of the current session"
   ]
  },
  {
   "cell_type": "code",
   "execution_count": 2,
   "metadata": {
    "execution": {
     "iopub.execute_input": "2020-10-21T18:24:16.717434Z",
     "iopub.status.busy": "2020-10-21T18:24:16.703641Z",
     "iopub.status.idle": "2020-10-21T18:24:28.628753Z",
     "shell.execute_reply": "2020-10-21T18:24:28.628040Z"
    },
    "papermill": {
     "duration": 11.952508,
     "end_time": "2020-10-21T18:24:28.628889",
     "exception": false,
     "start_time": "2020-10-21T18:24:16.676381",
     "status": "completed"
    },
    "tags": []
   },
   "outputs": [
    {
     "name": "stdout",
     "output_type": "stream",
     "text": [
      "Requirement already satisfied: imutils in d:\\anaconda\\lib\\site-packages (0.5.3)\n"
     ]
    },
    {
     "name": "stderr",
     "output_type": "stream",
     "text": [
      "WARNING: You are using pip version 20.2.2; however, version 20.2.4 is available.\n",
      "You should consider upgrading via the 'd:\\anaconda\\python.exe -m pip install --upgrade pip' command.\n"
     ]
    }
   ],
   "source": [
    "!pip install imutils"
   ]
  },
  {
   "cell_type": "code",
   "execution_count": 3,
   "metadata": {
    "_cell_guid": "79c7e3d0-c299-4dcb-8224-4455121ee9b0",
    "_uuid": "d629ff2d2480ee46fbb7e2d37f6b5fab8052498a",
    "execution": {
     "iopub.execute_input": "2020-10-21T18:24:28.679110Z",
     "iopub.status.busy": "2020-10-21T18:24:28.678117Z",
     "iopub.status.idle": "2020-10-21T18:24:35.246061Z",
     "shell.execute_reply": "2020-10-21T18:24:35.244551Z"
    },
    "papermill": {
     "duration": 6.597861,
     "end_time": "2020-10-21T18:24:35.246218",
     "exception": false,
     "start_time": "2020-10-21T18:24:28.648357",
     "status": "completed"
    },
    "tags": []
   },
   "outputs": [],
   "source": [
    "import tensorflow as tf\n",
    "from tensorflow.keras.preprocessing.image import ImageDataGenerator\n",
    "from tensorflow.keras.applications import MobileNetV2\n",
    "from tensorflow.keras.layers import AveragePooling2D\n",
    "from tensorflow.keras.layers import Dropout\n",
    "from tensorflow.keras.layers import Flatten\n",
    "from tensorflow.keras.layers import Dense\n",
    "from tensorflow.keras.layers import Input\n",
    "from tensorflow.keras.models import Model\n",
    "from tensorflow.keras.optimizers import Adam\n",
    "from tensorflow.keras.applications.mobilenet_v2 import preprocess_input\n",
    "from tensorflow.keras.preprocessing.image import img_to_array\n",
    "from tensorflow.keras.preprocessing.image import load_img\n",
    "from tensorflow.keras.utils import to_categorical\n",
    "from sklearn.preprocessing import LabelBinarizer\n",
    "from sklearn.model_selection import train_test_split\n",
    "from sklearn.metrics import classification_report\n",
    "from imutils import paths\n",
    "import matplotlib.pyplot as plt\n",
    "import numpy as np\n",
    "import argparse\n",
    "import os"
   ]
  },
  {
   "cell_type": "code",
   "execution_count": 4,
   "metadata": {
    "execution": {
     "iopub.execute_input": "2020-10-21T18:24:35.291537Z",
     "iopub.status.busy": "2020-10-21T18:24:35.290098Z",
     "iopub.status.idle": "2020-10-21T18:24:35.292255Z",
     "shell.execute_reply": "2020-10-21T18:24:35.292803Z"
    },
    "papermill": {
     "duration": 0.027614,
     "end_time": "2020-10-21T18:24:35.292935",
     "exception": false,
     "start_time": "2020-10-21T18:24:35.265321",
     "status": "completed"
    },
    "tags": []
   },
   "outputs": [],
   "source": [
    "INIT_LR = 1e-4\n",
    "EPOCHS = 8\n",
    "BS = 32"
   ]
  },
  {
   "cell_type": "code",
   "execution_count": 5,
   "metadata": {
    "execution": {
     "iopub.execute_input": "2020-10-21T18:24:35.340014Z",
     "iopub.status.busy": "2020-10-21T18:24:35.338400Z",
     "iopub.status.idle": "2020-10-21T18:24:47.600808Z",
     "shell.execute_reply": "2020-10-21T18:24:47.599956Z"
    },
    "papermill": {
     "duration": 12.289575,
     "end_time": "2020-10-21T18:24:47.600961",
     "exception": false,
     "start_time": "2020-10-21T18:24:35.311386",
     "status": "completed"
    },
    "tags": []
   },
   "outputs": [],
   "source": [
    "1. ## print(\"[INFO] loading images...\")\n",
    "imagePaths = list(paths.list_images(('./input/dataset/')))\n",
    "data = []\n",
    "labels = []\n",
    "# loop over the image paths\n",
    "for imagePath in imagePaths:\n",
    "    \n",
    "# extract the class label from the filename\n",
    "    label = imagePath.split(os.path.sep)[-2]\n",
    "# load the input image (224x224) and preprocess it\n",
    "    image = load_img(imagePath,target_size=[512,512])\n",
    "    image = img_to_array(image)\n",
    "    image = preprocess_input(image)\n",
    "# update the data and labels lists, respectively\n",
    "    data.append(image)\n",
    "    labels.append(label)\n",
    "# convert the data and labels to NumPy arrays\n",
    "data = np.array(data, dtype=\"float32\")\n",
    "labels = np.array(labels)"
   ]
  },
  {
   "cell_type": "code",
   "execution_count": null,
   "metadata": {
    "execution": {
     "iopub.execute_input": "2020-10-21T18:24:47.646738Z",
     "iopub.status.busy": "2020-10-21T18:24:47.645975Z",
     "iopub.status.idle": "2020-10-21T18:24:50.097656Z",
     "shell.execute_reply": "2020-10-21T18:24:50.097009Z"
    },
    "papermill": {
     "duration": 2.477701,
     "end_time": "2020-10-21T18:24:50.097780",
     "exception": false,
     "start_time": "2020-10-21T18:24:47.620079",
     "status": "completed"
    },
    "tags": []
   },
   "outputs": [],
   "source": [
    "lb = LabelBinarizer()\n",
    "labels = lb.fit_transform(labels)\n",
    "labels = to_categorical(labels)\n",
    "# partition the data into training and testing splits using 80% of\n",
    "# the data for training and the remaining 20% for testing\n",
    "(trainX, testX, trainY, testY) = train_test_split(data, labels,\n",
    "\ttest_size=0.20, stratify=labels, random_state=42)\n",
    "# construct the training image generator for data augmentation\n",
    "aug = ImageDataGenerator(\n",
    "\trotation_range=20,\n",
    "\tzoom_range=0.15,\n",
    "\twidth_shift_range=0.2,\n",
    "\theight_shift_range=0.2,\n",
    "\tshear_range=0.15,\n",
    "\thorizontal_flip=True,\n",
    "\tfill_mode=\"nearest\")"
   ]
  },
  {
   "cell_type": "code",
   "execution_count": null,
   "metadata": {
    "execution": {
     "iopub.execute_input": "2020-10-21T18:24:50.146877Z",
     "iopub.status.busy": "2020-10-21T18:24:50.146060Z",
     "iopub.status.idle": "2020-10-21T18:24:55.268526Z",
     "shell.execute_reply": "2020-10-21T18:24:55.267502Z"
    },
    "papermill": {
     "duration": 5.151643,
     "end_time": "2020-10-21T18:24:55.268657",
     "exception": false,
     "start_time": "2020-10-21T18:24:50.117014",
     "status": "completed"
    },
    "tags": []
   },
   "outputs": [],
   "source": [
    "baseModel = MobileNetV2(weights=\"imagenet\", include_top=False,\n",
    "\tinput_tensor=Input(shape=(512, 512, 3)))\n",
    "# construct the head of the model that will be placed on top of the\n",
    "# the base model\n",
    "headModel = baseModel.output\n",
    "headModel = AveragePooling2D(pool_size=(7, 7))(headModel)\n",
    "headModel = Flatten(name=\"flatten\")(headModel)\n",
    "headModel = Dense(128, activation=\"relu\")(headModel)\n",
    "headModel = Dropout(0.5)(headModel)\n",
    "headModel = Dense(2, activation=\"softmax\")(headModel)\n",
    "# place the head FC model on top of the base model (this will become\n",
    "# the actual model we will train)\n",
    "model = Model(inputs=baseModel.input, outputs=headModel)\n",
    "# loop over all layers in the base model and freeze them so they will\n",
    "# *not* be updated during the first training process\n",
    "for layer in baseModel.layers:\n",
    "\tlayer.trainable = False"
   ]
  },
  {
   "cell_type": "code",
   "execution_count": 8,
   "metadata": {
    "execution": {
     "iopub.execute_input": "2020-10-21T18:24:55.333932Z",
     "iopub.status.busy": "2020-10-21T18:24:55.332488Z",
     "iopub.status.idle": "2020-10-21T18:36:25.741263Z",
     "shell.execute_reply": "2020-10-21T18:36:25.740626Z"
    },
    "papermill": {
     "duration": 690.450711,
     "end_time": "2020-10-21T18:36:25.741446",
     "exception": false,
     "start_time": "2020-10-21T18:24:55.290735",
     "status": "completed"
    },
    "tags": []
   },
   "outputs": [
    {
     "name": "stdout",
     "output_type": "stream",
     "text": [
      "[INFO] compiling model...\n",
      "[INFO] training head...\n",
      "Epoch 1/8\n",
      "34/34 [==============================] - 80s 2s/step - loss: 0.5105 - accuracy: 0.7706 - val_loss: 0.1886 - val_accuracy: 0.9420\n",
      "Epoch 2/8\n",
      "34/34 [==============================] - 79s 2s/step - loss: 0.2197 - accuracy: 0.9148 - val_loss: 0.1457 - val_accuracy: 0.9384\n",
      "Epoch 3/8\n",
      "34/34 [==============================] - 82s 2s/step - loss: 0.1699 - accuracy: 0.9401 - val_loss: 0.0819 - val_accuracy: 0.9819\n",
      "Epoch 4/8\n",
      "34/34 [==============================] - 80s 2s/step - loss: 0.1316 - accuracy: 0.9494 - val_loss: 0.0861 - val_accuracy: 0.9746\n",
      "Epoch 5/8\n",
      "34/34 [==============================] - 83s 2s/step - loss: 0.0920 - accuracy: 0.9700 - val_loss: 0.0780 - val_accuracy: 0.9746\n",
      "Epoch 6/8\n",
      "34/34 [==============================] - 82s 2s/step - loss: 0.0932 - accuracy: 0.9691 - val_loss: 0.0779 - val_accuracy: 0.9710\n",
      "Epoch 7/8\n",
      "34/34 [==============================] - 83s 2s/step - loss: 0.0753 - accuracy: 0.9738 - val_loss: 0.0567 - val_accuracy: 0.9819\n",
      "Epoch 8/8\n",
      "34/34 [==============================] - 82s 2s/step - loss: 0.0557 - accuracy: 0.9822 - val_loss: 0.0736 - val_accuracy: 0.9783\n"
     ]
    }
   ],
   "source": [
    "print(\"[INFO] compiling model...\")\n",
    "opt = Adam(lr=INIT_LR, decay=INIT_LR / EPOCHS)\n",
    "model.compile(loss=\"binary_crossentropy\", optimizer=opt,\n",
    "\tmetrics=[\"accuracy\"])\n",
    "# train the head of the network\n",
    "print(\"[INFO] training head...\")\n",
    "H = model.fit(\n",
    "\taug.flow(trainX, trainY, batch_size=BS),\n",
    "\tsteps_per_epoch=len(trainX) // BS,\n",
    "\tvalidation_data=(testX, testY),\n",
    "\tvalidation_steps=len(testX) // BS,\n",
    "\tepochs=EPOCHS)"
   ]
  },
  {
   "cell_type": "code",
   "execution_count": 9,
   "metadata": {
    "execution": {
     "iopub.execute_input": "2020-10-21T18:36:26.021943Z",
     "iopub.status.busy": "2020-10-21T18:36:26.020964Z",
     "iopub.status.idle": "2020-10-21T18:36:57.392053Z",
     "shell.execute_reply": "2020-10-21T18:36:57.393121Z"
    },
    "papermill": {
     "duration": 31.515561,
     "end_time": "2020-10-21T18:36:57.393352",
     "exception": false,
     "start_time": "2020-10-21T18:36:25.877791",
     "status": "completed"
    },
    "tags": []
   },
   "outputs": [
    {
     "name": "stdout",
     "output_type": "stream",
     "text": [
      "[INFO] evaluating network...\n",
      "              precision    recall  f1-score   support\n",
      "\n",
      "   with_mask       1.00      0.96      0.98       138\n",
      "without_mask       0.96      1.00      0.98       138\n",
      "\n",
      "    accuracy                           0.98       276\n",
      "   macro avg       0.98      0.98      0.98       276\n",
      "weighted avg       0.98      0.98      0.98       276\n",
      "\n",
      "[INFO] saving mask detector model...\n"
     ]
    }
   ],
   "source": [
    "# make predictions on the testing set\n",
    "print(\"[INFO] evaluating network...\")\n",
    "predIdxs = model.predict(testX, batch_size=BS)\n",
    "# for each image in the testing set we need to find the index of the\n",
    "# label with corresponding largest predicted probability\n",
    "predIdxs = np.argmax(predIdxs, axis=1)\n",
    "# show a nicely formatted classification report\n",
    "print(classification_report(testY.argmax(axis=1), predIdxs,\n",
    "\ttarget_names=lb.classes_))\n",
    "# serialize the model to disk\n",
    "print(\"[INFO] saving mask detector model...\")\n",
    "tf.saved_model.save(obj=model,export_dir='/models/mask_detector_model')"
   ]
  },
  {
   "cell_type": "code",
   "execution_count": null,
   "metadata": {
    "papermill": {
     "duration": 0.143622,
     "end_time": "2020-10-21T18:36:57.772958",
     "exception": false,
     "start_time": "2020-10-21T18:36:57.629336",
     "status": "completed"
    },
    "tags": []
   },
   "outputs": [],
   "source": []
  },
  {
   "cell_type": "code",
   "execution_count": null,
   "metadata": {
    "papermill": {
     "duration": 0.136914,
     "end_time": "2020-10-21T18:36:58.045904",
     "exception": false,
     "start_time": "2020-10-21T18:36:57.908990",
     "status": "completed"
    },
    "tags": []
   },
   "outputs": [],
   "source": []
  },
  {
   "cell_type": "code",
   "execution_count": null,
   "metadata": {
    "papermill": {
     "duration": 0.142426,
     "end_time": "2020-10-21T18:36:58.325172",
     "exception": false,
     "start_time": "2020-10-21T18:36:58.182746",
     "status": "completed"
    },
    "tags": []
   },
   "outputs": [],
   "source": []
  },
  {
   "cell_type": "code",
   "execution_count": null,
   "metadata": {
    "papermill": {
     "duration": 0.158672,
     "end_time": "2020-10-21T18:36:58.625206",
     "exception": false,
     "start_time": "2020-10-21T18:36:58.466534",
     "status": "completed"
    },
    "tags": []
   },
   "outputs": [],
   "source": []
  },
  {
   "cell_type": "code",
   "execution_count": null,
   "metadata": {
    "papermill": {
     "duration": 0.135192,
     "end_time": "2020-10-21T18:36:58.908673",
     "exception": false,
     "start_time": "2020-10-21T18:36:58.773481",
     "status": "completed"
    },
    "tags": []
   },
   "outputs": [],
   "source": []
  }
 ],
 "metadata": {
  "kernelspec": {
   "display_name": "Python 3",
   "language": "python",
   "name": "python3"
  },
  "language_info": {
   "codemirror_mode": {
    "name": "ipython",
    "version": 3
   },
   "file_extension": ".py",
   "mimetype": "text/x-python",
   "name": "python",
   "nbconvert_exporter": "python",
   "pygments_lexer": "ipython3",
   "version": "3.7.6"
  },
  "papermill": {
   "duration": 769.145728,
   "end_time": "2020-10-21T18:37:00.838153",
   "environment_variables": {},
   "exception": null,
   "input_path": "__notebook__.ipynb",
   "output_path": "__notebook__.ipynb",
   "parameters": {},
   "start_time": "2020-10-21T18:24:11.692425",
   "version": "2.1.0"
  }
 },
 "nbformat": 4,
 "nbformat_minor": 4
}
