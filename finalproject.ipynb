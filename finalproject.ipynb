{
 "cells": [
  {
   "cell_type": "code",
   "execution_count": 4,
   "metadata": {},
   "outputs": [],
   "source": [
    "import tensorflow as tf\n",
    "from tensorflow.keras.applications.mobilenet_v2 import preprocess_input\n",
    "from tensorflow.keras.preprocessing.image import img_to_array\n",
    "from tensorflow.keras.models import load_model\n",
    "import numpy as np\n",
    "import cv2\n",
    "import random"
   ]
  },
  {
   "cell_type": "code",
   "execution_count": 5,
   "metadata": {},
   "outputs": [],
   "source": [
    "visit = False\n",
    "imageid = 0\n",
    "net = ''\n",
    "model = ''\n",
    "image = ''\n",
    "w = ''\n",
    "h = ''\n",
    "detections = ''"
   ]
  },
  {
   "cell_type": "code",
   "execution_count": 10,
   "metadata": {},
   "outputs": [
    {
     "name": "stdout",
     "output_type": "stream",
     "text": [
      "./input/mask2.png\n"
     ]
    }
   ],
   "source": [
    "imagePath = f'./input/mask{format(random.randint(1,10))}.png'\n",
    "print(imagePath)"
   ]
  },
  {
   "cell_type": "code",
   "execution_count": 11,
   "metadata": {},
   "outputs": [
    {
     "name": "stdout",
     "output_type": "stream",
     "text": [
      "[INFO] loading face detector model...\n"
     ]
    }
   ],
   "source": [
    "MASKCONFIDENCE = 0.2\n",
    "FACECONFIDENCE = 0.5\n",
    "\n",
    "def loader_face():\n",
    "\tprint(\"[INFO] loading face detector model...\")\n",
    "\tnet = cv2.dnn.readNet(\"./models/deploy.prototxt\", \"./models/res10_300x300_ssd_iter_140000.caffemodel\")\n",
    "\treturn net\n",
    "\n",
    "net = loader_face()"
   ]
  },
  {
   "cell_type": "code",
   "execution_count": 12,
   "metadata": {},
   "outputs": [
    {
     "name": "stdout",
     "output_type": "stream",
     "text": [
      "[INFO] loading face mask detector model...\n"
     ]
    }
   ],
   "source": [
    "def loader_mask():\n",
    "\tprint(\"[INFO] loading face mask detector model...\")\n",
    "\tmodel = tf.keras.models.load_model('./models/mask_detector_model')\n",
    "\treturn model\n",
    "\n",
    "model = loader_mask()"
   ]
  },
  {
   "cell_type": "code",
   "execution_count": 13,
   "metadata": {},
   "outputs": [
    {
     "name": "stdout",
     "output_type": "stream",
     "text": [
      "./input/mask2.png\n",
      "(236, 400, 3)\n"
     ]
    }
   ],
   "source": [
    "######################################################################\n",
    "def imager(image_path):\n",
    "\tif image_path == '':\n",
    "\t\timage_path = myPath\n",
    "\n",
    "\tprint(image_path)\n",
    "\n",
    "\timage = cv2.imread(image_path)\n",
    "\tprint(image.shape)\n",
    "\t(h, w) = image.shape[:2]\n",
    "\treturn image, w, h\n",
    "\n",
    "image, w, h = imager(imagePath)"
   ]
  },
  {
   "cell_type": "code",
   "execution_count": 14,
   "metadata": {},
   "outputs": [
    {
     "name": "stdout",
     "output_type": "stream",
     "text": [
      "[INFO] Loading Image\n",
      "[INFO] computing face detections...\n"
     ]
    }
   ],
   "source": [
    "#######################################################################\n",
    "def calculate(image,net):\n",
    "\tprint(\"[INFO] Loading Image\")\n",
    "\tblob = cv2.dnn.blobFromImage(image, 1.0, (300, 300),(104.0, 177.0, 123.0))\n",
    "\n",
    "\tprint(\"[INFO] computing face detections...\")\n",
    "\tnet.setInput(blob)\n",
    "\tdetections = net.forward()\n",
    "\treturn detections\n",
    "\n",
    "detections = calculate(image,net)"
   ]
  },
  {
   "cell_type": "code",
   "execution_count": 15,
   "metadata": {},
   "outputs": [],
   "source": [
    "def loop(image,detections,model,w,h):\n",
    "\tfor i in range(0, detections.shape[2]):\n",
    "\t\tconfidence = detections[0, 0, i, 2]\n",
    "\t\t\n",
    "\t\tif confidence > MASKCONFIDENCE:\n",
    "\t\t\tbox = detections[0, 0, i, 3:7] * np.array([w, h, w, h])\n",
    "\t\t\t(startX, startY, endX, endY) = box.astype(\"int\")\n",
    "\n",
    "\t\t\t(startX, startY) = (max(0, startX), max(0, startY))\n",
    "\t\t\t(endX, endY) = (min(w - 1, endX), min(h - 1, endY))\n",
    "\n",
    "\t\t\tface = image[startY:endY, startX:endX]\n",
    "\t\t\tface = cv2.cvtColor(face, cv2.COLOR_BGR2RGB)\n",
    "\t\t\tface = cv2.resize(face, (224, 224))\n",
    "\t\t\tface = img_to_array(face)\n",
    "\t\t\tface = preprocess_input(face)\n",
    "\t\t\tface = np.expand_dims(face, axis=0)\n",
    "\n",
    "\t\t\t(mask, withoutMask) = model.predict(face)[0]\n",
    "\n",
    "\t#######################################################################################\n",
    "\t\t\tif(mask>FACECONFIDENCE or withoutMask>FACECONFIDENCE):\n",
    "\t\t\t\tlabel = \"Mask\" if mask > withoutMask else \"No Mask\"\n",
    "\t\t\t\tcolor = (0, 255, 0) if label == \"Mask\" else (0, 0, 255)\n",
    "\t#######################################################################################\n",
    "\t\t\tlabel = \"{}: {:.2f}%\".format(label, max(mask, withoutMask) * 100)\n",
    "\n",
    "\t\t\tcv2.putText(image, label, (startX, startY - 10),\n",
    "\t\t\t\tcv2.FONT_HERSHEY_SIMPLEX, 0.45, color, 2)\n",
    "\t\t\tcv2.rectangle(image, (startX, startY), (endX, endY), color, 2)\n",
    "\t\n",
    "\t\n",
    "\treturn image\n",
    "\n",
    "finalimage = loop(image,detections,model,w,h)"
   ]
  },
  {
   "cell_type": "code",
   "execution_count": null,
   "metadata": {},
   "outputs": [],
   "source": [
    "cv2.imshow(\"OUTPUT\",finalimage)\n",
    "cv2.waitKey(0)"
   ]
  },
  {
   "cell_type": "code",
   "execution_count": null,
   "metadata": {},
   "outputs": [],
   "source": []
  }
 ],
 "metadata": {
  "kernelspec": {
   "display_name": "Python 3",
   "language": "python",
   "name": "python3"
  },
  "language_info": {
   "codemirror_mode": {
    "name": "ipython",
    "version": 3
   },
   "file_extension": ".py",
   "mimetype": "text/x-python",
   "name": "python",
   "nbconvert_exporter": "python",
   "pygments_lexer": "ipython3",
   "version": "3.7.6"
  }
 },
 "nbformat": 4,
 "nbformat_minor": 4
}
